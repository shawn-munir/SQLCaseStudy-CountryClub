{
 "cells": [
  {
   "cell_type": "code",
   "execution_count": 15,
   "id": "39aa6602",
   "metadata": {
    "scrolled": true
   },
   "outputs": [
    {
     "ename": "ImportError",
     "evalue": "Unable to import required dependencies:\nnumpy: \n\nIMPORTANT: PLEASE READ THIS FOR ADVICE ON HOW TO SOLVE THIS ISSUE!\n\nImporting the numpy C-extensions failed. This error can happen for\nmany reasons, often due to issues with your setup or how NumPy was\ninstalled.\n\nWe have compiled some common reasons and troubleshooting tips at:\n\n    https://numpy.org/devdocs/user/troubleshooting-importerror.html\n\nPlease note and check the following:\n\n  * The Python version is: Python3.8 from \"/Users/deens/opt/anaconda3/bin/python\"\n  * The NumPy version is: \"1.18.5\"\n\nand make sure that they are the versions you expect.\nPlease carefully study the documentation linked above for further help.\n\nOriginal error was: dlopen(/Users/deens/opt/anaconda3/lib/python3.8/site-packages/numpy/core/_multiarray_umath.cpython-38-darwin.so, 0x0002): Library not loaded: @rpath/libopenblas.dylib\n  Referenced from: /Users/deens/opt/anaconda3/lib/python3.8/site-packages/numpy/core/_multiarray_umath.cpython-38-darwin.so\n  Reason: tried: '/Users/deens/opt/anaconda3/lib/libopenblas.dylib' (no such file), '/Users/deens/opt/anaconda3/lib/libopenblas.dylib' (no such file), '/Users/deens/opt/anaconda3/lib/libopenblas.dylib' (no such file), '/Users/deens/opt/anaconda3/lib/python3.8/site-packages/numpy/core/../../../../libopenblas.dylib' (no such file), '/Users/deens/opt/anaconda3/lib/libopenblas.dylib' (no such file), '/Users/deens/opt/anaconda3/lib/libopenblas.dylib' (no such file), '/Users/deens/opt/anaconda3/lib/libopenblas.dylib' (no such file), '/Users/deens/opt/anaconda3/lib/python3.8/site-packages/numpy/core/../../../../libopenblas.dylib' (no such file), '/Users/deens/opt/anaconda3/lib/libopenblas.dylib' (no such file), '/Users/deens/opt/anaconda3/bin/../lib/libopenblas.dylib' (no such file), '/Users/deens/opt/anaconda3/lib/libopenblas.dylib' (no such file), '/Users/deens/opt/anaconda3/bin/../lib/libopenblas.dylib' (no such file), '/usr/local/lib/libopenblas.dylib' (no such file), '/usr/lib/libopenblas.dylib' (no such file)\n",
     "output_type": "error",
     "traceback": [
      "\u001b[0;31m---------------------------------------------------------------------------\u001b[0m",
      "\u001b[0;31mImportError\u001b[0m                               Traceback (most recent call last)",
      "\u001b[0;32m/var/folders/cr/9gwdd0wn43d9d1db4xfhyvpc0000gn/T/ipykernel_8143/4080736814.py\u001b[0m in \u001b[0;36m<module>\u001b[0;34m\u001b[0m\n\u001b[0;32m----> 1\u001b[0;31m \u001b[0;32mimport\u001b[0m \u001b[0mpandas\u001b[0m \u001b[0;32mas\u001b[0m \u001b[0mpd\u001b[0m\u001b[0;34m\u001b[0m\u001b[0;34m\u001b[0m\u001b[0m\n\u001b[0m",
      "\u001b[0;32m~/opt/anaconda3/lib/python3.8/site-packages/pandas/__init__.py\u001b[0m in \u001b[0;36m<module>\u001b[0;34m\u001b[0m\n\u001b[1;32m     14\u001b[0m \u001b[0;34m\u001b[0m\u001b[0m\n\u001b[1;32m     15\u001b[0m \u001b[0;32mif\u001b[0m \u001b[0mmissing_dependencies\u001b[0m\u001b[0;34m:\u001b[0m\u001b[0;34m\u001b[0m\u001b[0;34m\u001b[0m\u001b[0m\n\u001b[0;32m---> 16\u001b[0;31m     raise ImportError(\n\u001b[0m\u001b[1;32m     17\u001b[0m         \u001b[0;34m\"Unable to import required dependencies:\\n\"\u001b[0m \u001b[0;34m+\u001b[0m \u001b[0;34m\"\\n\"\u001b[0m\u001b[0;34m.\u001b[0m\u001b[0mjoin\u001b[0m\u001b[0;34m(\u001b[0m\u001b[0mmissing_dependencies\u001b[0m\u001b[0;34m)\u001b[0m\u001b[0;34m\u001b[0m\u001b[0;34m\u001b[0m\u001b[0m\n\u001b[1;32m     18\u001b[0m     )\n",
      "\u001b[0;31mImportError\u001b[0m: Unable to import required dependencies:\nnumpy: \n\nIMPORTANT: PLEASE READ THIS FOR ADVICE ON HOW TO SOLVE THIS ISSUE!\n\nImporting the numpy C-extensions failed. This error can happen for\nmany reasons, often due to issues with your setup or how NumPy was\ninstalled.\n\nWe have compiled some common reasons and troubleshooting tips at:\n\n    https://numpy.org/devdocs/user/troubleshooting-importerror.html\n\nPlease note and check the following:\n\n  * The Python version is: Python3.8 from \"/Users/deens/opt/anaconda3/bin/python\"\n  * The NumPy version is: \"1.18.5\"\n\nand make sure that they are the versions you expect.\nPlease carefully study the documentation linked above for further help.\n\nOriginal error was: dlopen(/Users/deens/opt/anaconda3/lib/python3.8/site-packages/numpy/core/_multiarray_umath.cpython-38-darwin.so, 0x0002): Library not loaded: @rpath/libopenblas.dylib\n  Referenced from: /Users/deens/opt/anaconda3/lib/python3.8/site-packages/numpy/core/_multiarray_umath.cpython-38-darwin.so\n  Reason: tried: '/Users/deens/opt/anaconda3/lib/libopenblas.dylib' (no such file), '/Users/deens/opt/anaconda3/lib/libopenblas.dylib' (no such file), '/Users/deens/opt/anaconda3/lib/libopenblas.dylib' (no such file), '/Users/deens/opt/anaconda3/lib/python3.8/site-packages/numpy/core/../../../../libopenblas.dylib' (no such file), '/Users/deens/opt/anaconda3/lib/libopenblas.dylib' (no such file), '/Users/deens/opt/anaconda3/lib/libopenblas.dylib' (no such file), '/Users/deens/opt/anaconda3/lib/libopenblas.dylib' (no such file), '/Users/deens/opt/anaconda3/lib/python3.8/site-packages/numpy/core/../../../../libopenblas.dylib' (no such file), '/Users/deens/opt/anaconda3/lib/libopenblas.dylib' (no such file), '/Users/deens/opt/anaconda3/bin/../lib/libopenblas.dylib' (no such file), '/Users/deens/opt/anaconda3/lib/libopenblas.dylib' (no such file), '/Users/deens/opt/anaconda3/bin/../lib/libopenblas.dylib' (no such file), '/usr/local/lib/libopenblas.dylib' (no such file), '/usr/lib/libopenblas.dylib' (no such file)\n"
     ]
    }
   ],
   "source": [
    "import pandas as pd"
   ]
  },
  {
   "cell_type": "code",
   "execution_count": 11,
   "id": "7acbf72c",
   "metadata": {},
   "outputs": [],
   "source": [
    "import sqlite3 as sql"
   ]
  },
  {
   "cell_type": "code",
   "execution_count": null,
   "id": "de2c78cf",
   "metadata": {},
   "outputs": [],
   "source": [
    "#from sqlalchemy import create_engine"
   ]
  },
  {
   "cell_type": "code",
   "execution_count": 9,
   "id": "dd6a5257",
   "metadata": {},
   "outputs": [],
   "source": [
    "countryclub_db = 'country_club.sql'"
   ]
  },
  {
   "cell_type": "code",
   "execution_count": 12,
   "id": "84e8ea08",
   "metadata": {},
   "outputs": [],
   "source": [
    "connection = sql.connect(countryclub_db)"
   ]
  },
  {
   "cell_type": "code",
   "execution_count": null,
   "id": "fd7f73ef",
   "metadata": {},
   "outputs": [],
   "source": [
    "#SQLAlchemy way: engine = create_engine('sqlite:///country_club.sqlite')"
   ]
  },
  {
   "cell_type": "code",
   "execution_count": 13,
   "id": "9fc1938c",
   "metadata": {},
   "outputs": [],
   "source": [
    "query = 'SELECT facility, SUM(total_cost) AS revenue FROM (SELECT firstname, surname, Facilities.name AS facility, CASE WHEN memid = 0 THEN \"guest\"ELSE \"member\" END AS person_type, CASE WHEN memid = 0 THEN guestcost*slots ELSE membercost*slots END AS total_cost FROM Bookings JOIN Members USING(memid) JOIN Facilities USING(facid)) AS total_cost_per_booking GROUP BY facility HAVING SUM(total_cost) < 1000 ORDER BY SUM(total_cost) DESC'"
   ]
  },
  {
   "cell_type": "code",
   "execution_count": null,
   "id": "d9d0699e",
   "metadata": {},
   "outputs": [],
   "source": [
    "#SQLAlchemy\n",
    "#check for table names\n",
    "#table_names = engine.table_names()"
   ]
  },
  {
   "cell_type": "code",
   "execution_count": 14,
   "id": "2ed4a317",
   "metadata": {},
   "outputs": [
    {
     "ename": "NameError",
     "evalue": "name 'pd' is not defined",
     "output_type": "error",
     "traceback": [
      "\u001b[0;31m---------------------------------------------------------------------------\u001b[0m",
      "\u001b[0;31mNameError\u001b[0m                                 Traceback (most recent call last)",
      "\u001b[0;32m/var/folders/cr/9gwdd0wn43d9d1db4xfhyvpc0000gn/T/ipykernel_8143/425691133.py\u001b[0m in \u001b[0;36m<module>\u001b[0;34m\u001b[0m\n\u001b[0;32m----> 1\u001b[0;31m \u001b[0mdf\u001b[0m \u001b[0;34m=\u001b[0m \u001b[0mpd\u001b[0m\u001b[0;34m.\u001b[0m\u001b[0mread_sql_query\u001b[0m\u001b[0;34m(\u001b[0m\u001b[0mquery\u001b[0m\u001b[0;34m,\u001b[0m \u001b[0mconnection\u001b[0m\u001b[0;34m)\u001b[0m\u001b[0;34m\u001b[0m\u001b[0;34m\u001b[0m\u001b[0m\n\u001b[0m",
      "\u001b[0;31mNameError\u001b[0m: name 'pd' is not defined"
     ]
    }
   ],
   "source": [
    "df = pd.read_sql_query(query, connection)"
   ]
  },
  {
   "cell_type": "code",
   "execution_count": null,
   "id": "06a75145",
   "metadata": {},
   "outputs": [],
   "source": []
  }
 ],
 "metadata": {
  "kernelspec": {
   "display_name": "Python 3 (ipykernel)",
   "language": "python",
   "name": "python3"
  },
  "language_info": {
   "codemirror_mode": {
    "name": "ipython",
    "version": 3
   },
   "file_extension": ".py",
   "mimetype": "text/x-python",
   "name": "python",
   "nbconvert_exporter": "python",
   "pygments_lexer": "ipython3",
   "version": "3.8.12"
  }
 },
 "nbformat": 4,
 "nbformat_minor": 5
}
